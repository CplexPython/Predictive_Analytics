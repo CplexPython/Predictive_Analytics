{
 "cells": [
  {
   "cell_type": "markdown",
   "metadata": {},
   "source": [
    "![title](UCN ICI.png)\n",
    "\n",
    " #  <font color= #007FFF> K-mean Algorithm </font>\n",
    "\n",
    "<div class=\"alert alert-info\"> </h4> **Material preparado para el Master en Ingeniería Civil Industrial | Universidad Católica del Norte | Antofasta | Curso - Predictive Analytics.**\n",
    "</h4> </div>\n",
    "\n",
    "**K-medias es un método de agrupamiento**, que tiene como objetivo la partición de un conjunto de n observaciones en k grupos en el que cada observación pertenece al grupo cuyo valor medio es más cercano. Es un método utilizado en data science.\n",
    "\n",
    "La agrupación del conjunto de datos puede ilustrarse en una partición del espacio de datos en celdas de Voronoi.\n",
    "\n",
    "El problema es computacionalmente difícil (**NP-hard**). Sin embargo, hay eficientes heurísticas que se emplean comúnmente y convergen rápidamente a un óptimo local. Estos suelen ser similares a los algoritmos expectation-maximization de mezclas de distribuciones gausianas por medio de un enfoque de refinamiento iterativo empleado por ambos algoritmos. Además, los dos algoritmos usan los centros que los grupos utilizan para modelar los datos, sin embargo **k-medias** tiende a encontrar grupos de extensión espacial comparable, mientras que el mecanismo expectation-maximization permite que los grupos tengan formas diferentes.\n",
    "Fuente: [Wikipedia](https://es.wikipedia.org/wiki/K-medias)\n",
    "\n",
    "\n",
    "## **Problema**\n",
    "\n",
    "\n",
    "\n",
    "Dado un conjunto de observaciones $(x_1, x_2, …, x_n)$, donde cada observación es un vector real de $d$ dimensiones, **k-medias** construye una partición de las observaciones en $k$ conjuntos $(k \\leq n)$ a fin de **minimizar la suma de los cuadrados dentro de cada grupo** (WCSS): S = {S1, S2, …, Sk}\n",
    "\n",
    "\\begin{equation}\n",
    "Min\\;Z=\\displaystyle\\sum_{i=1}^{k}\\displaystyle\\sum_{x_{i}\\in S_i}^{}|| x_i-\\mu_i ||^{2}\n",
    "\\end{equation}\n",
    "Donde $\\mu_i$ es la media de los puntos en $s_i$\n",
    "\n",
    "<img src=\"kmeanx.png\" width=\"500\" height=\"500\" />\n",
    "\n",
    "\n",
    "## **Agenda**\n",
    "- Ejemplo simple utilizando Scikit-learn\n",
    "- Clasificando Estudiantes"
   ]
  },
  {
   "cell_type": "code",
   "execution_count": 1,
   "metadata": {},
   "outputs": [],
   "source": [
    "import numpy as np\n",
    "import pandas as pd \n",
    "import matplotlib.pyplot as plt\n",
    "import seaborn as sns\n",
    "\n",
    "from sklearn.cluster import KMeans"
   ]
  },
  {
   "cell_type": "code",
   "execution_count": 2,
   "metadata": {},
   "outputs": [
    {
     "data": {
      "text/plain": [
       "array([[  1. ,   2. ],\n",
       "       [  1.5,   1.8],\n",
       "       [  5. ,   8. ],\n",
       "       [  8. ,   8. ],\n",
       "       [  1. ,   0.6],\n",
       "       [  9. ,  11. ],\n",
       "       [  1. ,  10. ],\n",
       "       [  1.5,   9. ],\n",
       "       [  0.5,   9.5]])"
      ]
     },
     "execution_count": 2,
     "metadata": {},
     "output_type": "execute_result"
    }
   ],
   "source": [
    "# Creando los datos.\n",
    "data=np.array([[1,2],[1.5,1.8],[5,8],[8,8],[1,0.6],[9,11],[1,10],[1.5,9],[0.5,9.5]])\n",
    "data"
   ]
  },
  {
   "cell_type": "code",
   "execution_count": 3,
   "metadata": {},
   "outputs": [
    {
     "data": {
      "image/png": "[encoded data removed]",
      "text/plain": [
       "<matplotlib.figure.Figure at 0x117113c18>"
      ]
     },
     "metadata": {},
     "output_type": "display_data"
    }
   ],
   "source": [
    "x=data[:,0]\n",
    "y=data[:,1]\n",
    "sns.set(style='darkgrid')\n",
    "\n",
    "plt.figure(figsize=(10,5))\n",
    "plt.scatter(x,y,s=20,linewidths=5,zorder=1,color='green')\n",
    "plt.xlabel('Eje X')\n",
    "plt.ylabel('Eje Y')\n",
    "plt.title('Ejemplo Simple')\n",
    "plt.show()"
   ]
  },
  {
   "cell_type": "code",
   "execution_count": 4,
   "metadata": {},
   "outputs": [
    {
     "data": {
      "text/plain": [
       "KMeans(algorithm='auto', copy_x=True, init='k-means++', max_iter=300,\n",
       "    n_clusters=3, n_init=10, n_jobs=1, precompute_distances='auto',\n",
       "    random_state=None, tol=0.0001, verbose=0)"
      ]
     },
     "execution_count": 4,
     "metadata": {},
     "output_type": "execute_result"
    }
   ],
   "source": [
    "k_mean=KMeans(n_clusters=3)\n",
    "k_mean.fit(data)"
   ]
  },
  {
   "cell_type": "code",
   "execution_count": 5,
   "metadata": {},
   "outputs": [
    {
     "name": "stdout",
     "output_type": "stream",
     "text": [
      "[[ 1.16666667  1.46666667]\n",
      " [ 7.33333333  9.        ]\n",
      " [ 1.          9.5       ]]\n",
      "[0 0 1 1 0 1 2 2 2]\n"
     ]
    }
   ],
   "source": [
    "centroids=k_mean.cluster_centers_\n",
    "labels=k_mean.labels_\n",
    "print(centroids)\n",
    "print(labels)"
   ]
  },
  {
   "cell_type": "code",
   "execution_count": 6,
   "metadata": {},
   "outputs": [
    {
     "data": {
      "image/png": "[encoded data removed]",
      "text/plain": [
       "<matplotlib.figure.Figure at 0x11c11c630>"
      ]
     },
     "metadata": {},
     "output_type": "display_data"
    }
   ],
   "source": [
    "color=['green','red','c','y']\n",
    "sns.set(style='darkgrid')\n",
    "\n",
    "for i in range(len(data)):\n",
    "    plt.scatter(x[i],y[i],s=20,linewidths=5,zorder=1,color=color[labels[i]])\n",
    "\n",
    "plt.scatter(centroids[:,0],centroids[:,1], marker = \"x\", s=150, linewidths = 5, zorder = 10),\n",
    "plt.show()"
   ]
  },
  {
   "cell_type": "code",
   "execution_count": 7,
   "metadata": {},
   "outputs": [
    {
     "name": "stdout",
     "output_type": "stream",
     "text": [
      "[array([ 1.,  2.]), array([ 1.5,  1.8]), array([ 1. ,  0.6])]\n",
      "\n",
      "[array([ 5.,  8.]), array([ 8.,  8.]), array([  9.,  11.])]\n",
      "\n",
      "[array([  1.,  10.]), array([ 1.5,  9. ]), array([ 0.5,  9.5])]\n"
     ]
    }
   ],
   "source": [
    "Cluster_1=[]\n",
    "Cluster_2=[]\n",
    "Cluster_3=[]\n",
    "\n",
    "for n in range(len(data)):\n",
    "    \n",
    "    if labels[n]==0:\n",
    "        Cluster_1.append(data[n])\n",
    "    elif labels[n]==1:\n",
    "        Cluster_2.append(data[n])\n",
    "    elif labels[n]==2:\n",
    "        Cluster_3.append(data[n])\n",
    "print(Cluster_1)\n",
    "print('')\n",
    "print(Cluster_2) \n",
    "print('')\n",
    "print(Cluster_3) "
   ]
  },
  {
   "cell_type": "code",
   "execution_count": 24,
   "metadata": {},
   "outputs": [],
   "source": [
    "#Notas Exemplos: Ejemplo con estudiantes."
   ]
  },
  {
   "cell_type": "code",
   "execution_count": 25,
   "metadata": {},
   "outputs": [
    {
     "data": {
      "text/html": [
       "<div>\n",
       "<style>\n",
       "    .dataframe thead tr:only-child th {\n",
       "        text-align: right;\n",
       "    }\n",
       "\n",
       "    .dataframe thead th {\n",
       "        text-align: left;\n",
       "    }\n",
       "\n",
       "    .dataframe tbody tr th {\n",
       "        vertical-align: top;\n",
       "    }\n",
       "</style>\n",
       "<table border=\"1\" class=\"dataframe\">\n",
       "  <thead>\n",
       "    <tr style=\"text-align: right;\">\n",
       "      <th></th>\n",
       "      <th>Nota Io2</th>\n",
       "      <th>Nº Io2</th>\n",
       "      <th>Nota Produ2</th>\n",
       "      <th>Nº Produ2</th>\n",
       "    </tr>\n",
       "  </thead>\n",
       "  <tbody>\n",
       "    <tr>\n",
       "      <th>0</th>\n",
       "      <td>3.9</td>\n",
       "      <td>2</td>\n",
       "      <td>3.0</td>\n",
       "      <td>1</td>\n",
       "    </tr>\n",
       "    <tr>\n",
       "      <th>1</th>\n",
       "      <td>4.0</td>\n",
       "      <td>1</td>\n",
       "      <td>4.9</td>\n",
       "      <td>1</td>\n",
       "    </tr>\n",
       "    <tr>\n",
       "      <th>2</th>\n",
       "      <td>3.8</td>\n",
       "      <td>2</td>\n",
       "      <td>3.5</td>\n",
       "      <td>2</td>\n",
       "    </tr>\n",
       "    <tr>\n",
       "      <th>3</th>\n",
       "      <td>4.6</td>\n",
       "      <td>1</td>\n",
       "      <td>2.4</td>\n",
       "      <td>1</td>\n",
       "    </tr>\n",
       "    <tr>\n",
       "      <th>4</th>\n",
       "      <td>4.0</td>\n",
       "      <td>1</td>\n",
       "      <td>4.6</td>\n",
       "      <td>1</td>\n",
       "    </tr>\n",
       "  </tbody>\n",
       "</table>\n",
       "</div>"
      ],
      "text/plain": [
       "   Nota Io2  Nº Io2  Nota Produ2  Nº Produ2\n",
       "0       3.9       2          3.0          1\n",
       "1       4.0       1          4.9          1\n",
       "2       3.8       2          3.5          2\n",
       "3       4.6       1          2.4          1\n",
       "4       4.0       1          4.6          1"
      ]
     },
     "execution_count": 25,
     "metadata": {},
     "output_type": "execute_result"
    }
   ],
   "source": [
    "excel=pd.ExcelFile('Notas Examples - UCN.xlsx')\n",
    "data =pd.read_excel(excel,'Data')\n",
    "data = data.drop('ID Studiantes', 1)\n",
    "data.head()"
   ]
  },
  {
   "cell_type": "code",
   "execution_count": 26,
   "metadata": {},
   "outputs": [
    {
     "data": {
      "image/png": "[encoded data removed]",
      "text/plain": [
       "<matplotlib.figure.Figure at 0x11f7b37b8>"
      ]
     },
     "metadata": {},
     "output_type": "display_data"
    }
   ],
   "source": [
    "\n",
    "io2=data['Nota Io2']\n",
    "prod2=data['Nota Produ2']\n",
    "\n",
    "plt.figure(figsize=(12,4))\n",
    "plt.subplot(1, 2, 1)\n",
    "plt.hist(x=io2, bins=6, color='green',alpha=0.7, rwidth=0.85)\n",
    "plt.title('Io2')\n",
    "plt.xlabel('Nota')\n",
    "plt.ylabel('Frequency')\n",
    "\n",
    "plt.subplot(1, 2, 2)\n",
    "plt.hist(x=prod2, bins=6, color='red',alpha=0.7, rwidth=0.85)\n",
    "plt.xlabel('Nota')\n",
    "plt.ylabel('Frequency')\n",
    "plt.title('Produ 2')\n",
    "\n",
    "plt.show()"
   ]
  },
  {
   "cell_type": "code",
   "execution_count": 27,
   "metadata": {},
   "outputs": [
    {
     "data": {
      "image/png": "[encoded data removed]",
      "text/plain": [
       "<matplotlib.figure.Figure at 0x11f7d84a8>"
      ]
     },
     "metadata": {},
     "output_type": "display_data"
    }
   ],
   "source": [
    "color=['black','green','red','c','y','white']\n",
    "sns.set(style='darkgrid')\n",
    "\n",
    "plt.figure(figsize=(12,5))\n",
    "for i in range(len(data)):\n",
    "    plt.scatter(data.iloc[i][2],data.iloc[i][0],s=data.iloc[i][1],linewidths=5,zorder=1,\n",
    "                color=color[int(data.iloc[i][1])])\n",
    "\n",
    "plt.xlabel('Notas Io2')\n",
    "plt.ylabel('Notas Produ 2')\n",
    "plt.title('Estudiantes Io2 y produ 2')\n",
    "plt.show()"
   ]
  },
  {
   "cell_type": "code",
   "execution_count": 28,
   "metadata": {},
   "outputs": [],
   "source": [
    "from pandas.plotting import scatter_matrix\n",
    "import matplotlib.pyplot as plt"
   ]
  },
  {
   "cell_type": "code",
   "execution_count": 29,
   "metadata": {},
   "outputs": [
    {
     "data": {
      "image/png": "[encoded data removed]",
      "text/plain": [
       "<matplotlib.figure.Figure at 0x11f42eef0>"
      ]
     },
     "metadata": {},
     "output_type": "display_data"
    }
   ],
   "source": [
    "scatter_matrix(data, alpha=0.2, figsize=(6, 6), diagonal='hist')\n",
    "plt.show()"
   ]
  },
  {
   "cell_type": "code",
   "execution_count": 30,
   "metadata": {},
   "outputs": [
    {
     "data": {
      "text/plain": [
       "KMeans(algorithm='auto', copy_x=True, init='k-means++', max_iter=300,\n",
       "    n_clusters=5, n_init=10, n_jobs=1, precompute_distances='auto',\n",
       "    random_state=None, tol=0.0001, verbose=0)"
      ]
     },
     "execution_count": 30,
     "metadata": {},
     "output_type": "execute_result"
    }
   ],
   "source": [
    "k_mean=KMeans(n_clusters=5)\n",
    "k_mean.fit(data)"
   ]
  },
  {
   "cell_type": "code",
   "execution_count": 31,
   "metadata": {},
   "outputs": [
    {
     "data": {
      "text/plain": [
       "array([4, 1, 4, 0, 1, 4, 1, 4, 2, 3, 1, 3, 2, 4, 3, 1, 2, 2, 1, 4, 4, 4, 3,\n",
       "       2, 1, 4, 3, 1, 2, 4, 2, 4, 1, 4, 1, 1, 3, 3, 2, 2, 3, 3, 3, 2, 4, 4,\n",
       "       2, 3, 1, 1, 3, 3, 0, 1, 1, 1, 0, 1, 2, 0, 0, 2, 1, 1, 1, 4, 1, 1, 0,\n",
       "       1, 3], dtype=int32)"
      ]
     },
     "execution_count": 31,
     "metadata": {},
     "output_type": "execute_result"
    }
   ],
   "source": [
    "labels=k_mean.labels_\n",
    "labels"
   ]
  },
  {
   "cell_type": "code",
   "execution_count": 32,
   "metadata": {},
   "outputs": [
    {
     "data": {
      "text/plain": [
       "array([[ 4.15      ,  1.        ,  3.23333333,  1.83333333],\n",
       "       [ 4.13478261,  1.        ,  5.03478261,  1.        ],\n",
       "       [ 3.55384615,  2.15384615,  1.71538462,  1.38461538],\n",
       "       [ 3.55714286,  2.21428571,  4.97142857,  1.        ],\n",
       "       [ 3.76666667,  2.26666667,  3.77333333,  1.8       ]])"
      ]
     },
     "execution_count": 32,
     "metadata": {},
     "output_type": "execute_result"
    }
   ],
   "source": [
    "centroids_2=k_mean.cluster_centers_\n",
    "centroids_2"
   ]
  },
  {
   "cell_type": "code",
   "execution_count": 33,
   "metadata": {},
   "outputs": [
    {
     "data": {
      "text/plain": [
       "array([ 3.23333333,  5.03478261,  1.71538462,  4.97142857,  3.77333333])"
      ]
     },
     "execution_count": 33,
     "metadata": {},
     "output_type": "execute_result"
    }
   ],
   "source": [
    "centroids_2[:,2]"
   ]
  },
  {
   "cell_type": "code",
   "execution_count": 34,
   "metadata": {},
   "outputs": [
    {
     "data": {
      "image/png": "[encoded data removed]",
      "text/plain": [
       "<matplotlib.figure.Figure at 0x12002a400>"
      ]
     },
     "metadata": {},
     "output_type": "display_data"
    }
   ],
   "source": [
    "color=['black','green','red','c','y','white']\n",
    "sns.set(style='darkgrid')\n",
    "plt.figure(figsize=(12,5))\n",
    "\n",
    "for i in range(len(data)):\n",
    "    plt.scatter(data.iloc[i][2],data.iloc[i][0],s=data.iloc[i][1]*5,linewidths=5,zorder=1,color=color[labels[i]])\n",
    "\n",
    "plt.scatter(centroids_2[:,2],centroids_2[:,0], marker = \"x\", s=150, linewidths = 5, zorder = 10),\n",
    "\n",
    "plt.xlabel('Notas Io2')\n",
    "plt.ylabel('Notas Produ 2')\n",
    "plt.title('Cluster de estudiantes Io2 y produ 2')\n",
    "plt.show()"
   ]
  },
  {
   "cell_type": "code",
   "execution_count": 35,
   "metadata": {},
   "outputs": [
    {
     "data": {
      "text/html": [
       "<div>\n",
       "<style>\n",
       "    .dataframe thead tr:only-child th {\n",
       "        text-align: right;\n",
       "    }\n",
       "\n",
       "    .dataframe thead th {\n",
       "        text-align: left;\n",
       "    }\n",
       "\n",
       "    .dataframe tbody tr th {\n",
       "        vertical-align: top;\n",
       "    }\n",
       "</style>\n",
       "<table border=\"1\" class=\"dataframe\">\n",
       "  <thead>\n",
       "    <tr style=\"text-align: right;\">\n",
       "      <th></th>\n",
       "      <th>Nota Io2</th>\n",
       "      <th>Nº Io2</th>\n",
       "      <th>Nota Produ2</th>\n",
       "      <th>Nº Produ2</th>\n",
       "      <th>Estudiante</th>\n",
       "    </tr>\n",
       "  </thead>\n",
       "  <tbody>\n",
       "    <tr>\n",
       "      <th>0</th>\n",
       "      <td>3.9</td>\n",
       "      <td>2</td>\n",
       "      <td>3.0</td>\n",
       "      <td>1</td>\n",
       "      <td>4</td>\n",
       "    </tr>\n",
       "    <tr>\n",
       "      <th>1</th>\n",
       "      <td>4.0</td>\n",
       "      <td>1</td>\n",
       "      <td>4.9</td>\n",
       "      <td>1</td>\n",
       "      <td>1</td>\n",
       "    </tr>\n",
       "    <tr>\n",
       "      <th>2</th>\n",
       "      <td>3.8</td>\n",
       "      <td>2</td>\n",
       "      <td>3.5</td>\n",
       "      <td>2</td>\n",
       "      <td>4</td>\n",
       "    </tr>\n",
       "    <tr>\n",
       "      <th>3</th>\n",
       "      <td>4.6</td>\n",
       "      <td>1</td>\n",
       "      <td>2.4</td>\n",
       "      <td>1</td>\n",
       "      <td>0</td>\n",
       "    </tr>\n",
       "    <tr>\n",
       "      <th>4</th>\n",
       "      <td>4.0</td>\n",
       "      <td>1</td>\n",
       "      <td>4.6</td>\n",
       "      <td>1</td>\n",
       "      <td>1</td>\n",
       "    </tr>\n",
       "  </tbody>\n",
       "</table>\n",
       "</div>"
      ],
      "text/plain": [
       "   Nota Io2  Nº Io2  Nota Produ2  Nº Produ2 Estudiante\n",
       "0       3.9       2          3.0          1          4\n",
       "1       4.0       1          4.9          1          1\n",
       "2       3.8       2          3.5          2          4\n",
       "3       4.6       1          2.4          1          0\n",
       "4       4.0       1          4.6          1          1"
      ]
     },
     "execution_count": 35,
     "metadata": {},
     "output_type": "execute_result"
    }
   ],
   "source": [
    "data['Estudiante']=''\n",
    "for n in range(len(data)):\n",
    "    data.at[n,'Estudiante']=labels[n]\n",
    "data.head()"
   ]
  },
  {
   "cell_type": "code",
   "execution_count": 36,
   "metadata": {},
   "outputs": [
    {
     "data": {
      "text/html": [
       "<div>\n",
       "<style>\n",
       "    .dataframe thead tr:only-child th {\n",
       "        text-align: right;\n",
       "    }\n",
       "\n",
       "    .dataframe thead th {\n",
       "        text-align: left;\n",
       "    }\n",
       "\n",
       "    .dataframe tbody tr th {\n",
       "        vertical-align: top;\n",
       "    }\n",
       "</style>\n",
       "<table border=\"1\" class=\"dataframe\">\n",
       "  <thead>\n",
       "    <tr style=\"text-align: right;\">\n",
       "      <th></th>\n",
       "      <th>Nota Io2</th>\n",
       "      <th>Nº Io2</th>\n",
       "      <th>Nota Produ2</th>\n",
       "      <th>Nº Produ2</th>\n",
       "    </tr>\n",
       "    <tr>\n",
       "      <th>Estudiante</th>\n",
       "      <th></th>\n",
       "      <th></th>\n",
       "      <th></th>\n",
       "      <th></th>\n",
       "    </tr>\n",
       "  </thead>\n",
       "  <tbody>\n",
       "    <tr>\n",
       "      <th>0</th>\n",
       "      <td>4.150000</td>\n",
       "      <td>1.000000</td>\n",
       "      <td>3.233333</td>\n",
       "      <td>1.833333</td>\n",
       "    </tr>\n",
       "    <tr>\n",
       "      <th>1</th>\n",
       "      <td>4.134783</td>\n",
       "      <td>1.000000</td>\n",
       "      <td>5.034783</td>\n",
       "      <td>1.000000</td>\n",
       "    </tr>\n",
       "    <tr>\n",
       "      <th>2</th>\n",
       "      <td>3.553846</td>\n",
       "      <td>2.153846</td>\n",
       "      <td>1.715385</td>\n",
       "      <td>1.384615</td>\n",
       "    </tr>\n",
       "    <tr>\n",
       "      <th>3</th>\n",
       "      <td>3.557143</td>\n",
       "      <td>2.214286</td>\n",
       "      <td>4.971429</td>\n",
       "      <td>1.000000</td>\n",
       "    </tr>\n",
       "    <tr>\n",
       "      <th>4</th>\n",
       "      <td>3.766667</td>\n",
       "      <td>2.266667</td>\n",
       "      <td>3.773333</td>\n",
       "      <td>1.800000</td>\n",
       "    </tr>\n",
       "  </tbody>\n",
       "</table>\n",
       "</div>"
      ],
      "text/plain": [
       "            Nota Io2    Nº Io2  Nota Produ2  Nº Produ2\n",
       "Estudiante                                            \n",
       "0           4.150000  1.000000     3.233333   1.833333\n",
       "1           4.134783  1.000000     5.034783   1.000000\n",
       "2           3.553846  2.153846     1.715385   1.384615\n",
       "3           3.557143  2.214286     4.971429   1.000000\n",
       "4           3.766667  2.266667     3.773333   1.800000"
      ]
     },
     "execution_count": 36,
     "metadata": {},
     "output_type": "execute_result"
    }
   ],
   "source": [
    "Resumen=data.groupby(['Estudiante']).mean()\n",
    "Resumen"
   ]
  },
  {
   "cell_type": "code",
   "execution_count": 37,
   "metadata": {},
   "outputs": [],
   "source": [
    "from sklearn import preprocessing\n",
    "#X_normalized = preprocessing.normalize(data, norm='l2')\n",
    "X_scaled = preprocessing.scale(data)\n",
    "\n",
    "k_mean=KMeans(n_clusters=5)\n",
    "k_mean.fit(X_scaled)\n",
    "labels=k_mean.labels_"
   ]
  },
  {
   "cell_type": "code",
   "execution_count": 38,
   "metadata": {},
   "outputs": [
    {
     "data": {
      "image/png": "[encoded data removed]",
      "text/plain": [
       "<matplotlib.figure.Figure at 0x11ff0a940>"
      ]
     },
     "metadata": {},
     "output_type": "display_data"
    }
   ],
   "source": [
    "color=['black','green','red','c','y','white']\n",
    "sns.set(style='darkgrid')\n",
    "plt.figure(figsize=(12,5))\n",
    "\n",
    "for i in range(len(data)):\n",
    "    plt.scatter(data.iloc[i][2],data.iloc[i][0],s=data.iloc[i][1]*5,linewidths=5,zorder=1,color=color[labels[i]])\n",
    "\n",
    "plt.scatter(centroids_2[:,2],centroids_2[:,0], marker = \"x\", s=150, linewidths = 5, zorder = 10),\n",
    "\n",
    "plt.xlabel('Notas Io2')\n",
    "plt.ylabel('Notas Produ 2')\n",
    "plt.title('Cluster de estudiantes Io2 y produ 2')\n",
    "plt.show()"
   ]
  },
  {
   "cell_type": "code",
   "execution_count": 39,
   "metadata": {},
   "outputs": [
    {
     "data": {
      "text/html": [
       "<div>\n",
       "<style>\n",
       "    .dataframe thead tr:only-child th {\n",
       "        text-align: right;\n",
       "    }\n",
       "\n",
       "    .dataframe thead th {\n",
       "        text-align: left;\n",
       "    }\n",
       "\n",
       "    .dataframe tbody tr th {\n",
       "        vertical-align: top;\n",
       "    }\n",
       "</style>\n",
       "<table border=\"1\" class=\"dataframe\">\n",
       "  <thead>\n",
       "    <tr style=\"text-align: right;\">\n",
       "      <th></th>\n",
       "      <th>Nota Io2</th>\n",
       "      <th>Nº Io2</th>\n",
       "      <th>Nota Produ2</th>\n",
       "      <th>Nº Produ2</th>\n",
       "      <th>Estudiante</th>\n",
       "      <th>Estudiante Normalized</th>\n",
       "    </tr>\n",
       "  </thead>\n",
       "  <tbody>\n",
       "    <tr>\n",
       "      <th>0</th>\n",
       "      <td>3.9</td>\n",
       "      <td>2</td>\n",
       "      <td>3.0</td>\n",
       "      <td>1</td>\n",
       "      <td>4</td>\n",
       "      <td>4</td>\n",
       "    </tr>\n",
       "    <tr>\n",
       "      <th>1</th>\n",
       "      <td>4.0</td>\n",
       "      <td>1</td>\n",
       "      <td>4.9</td>\n",
       "      <td>1</td>\n",
       "      <td>1</td>\n",
       "      <td>0</td>\n",
       "    </tr>\n",
       "    <tr>\n",
       "      <th>2</th>\n",
       "      <td>3.8</td>\n",
       "      <td>2</td>\n",
       "      <td>3.5</td>\n",
       "      <td>2</td>\n",
       "      <td>4</td>\n",
       "      <td>1</td>\n",
       "    </tr>\n",
       "    <tr>\n",
       "      <th>3</th>\n",
       "      <td>4.6</td>\n",
       "      <td>1</td>\n",
       "      <td>2.4</td>\n",
       "      <td>1</td>\n",
       "      <td>0</td>\n",
       "      <td>0</td>\n",
       "    </tr>\n",
       "    <tr>\n",
       "      <th>4</th>\n",
       "      <td>4.0</td>\n",
       "      <td>1</td>\n",
       "      <td>4.6</td>\n",
       "      <td>1</td>\n",
       "      <td>1</td>\n",
       "      <td>0</td>\n",
       "    </tr>\n",
       "  </tbody>\n",
       "</table>\n",
       "</div>"
      ],
      "text/plain": [
       "   Nota Io2  Nº Io2  Nota Produ2  Nº Produ2 Estudiante Estudiante Normalized\n",
       "0       3.9       2          3.0          1          4                     4\n",
       "1       4.0       1          4.9          1          1                     0\n",
       "2       3.8       2          3.5          2          4                     1\n",
       "3       4.6       1          2.4          1          0                     0\n",
       "4       4.0       1          4.6          1          1                     0"
      ]
     },
     "execution_count": 39,
     "metadata": {},
     "output_type": "execute_result"
    }
   ],
   "source": [
    "data['Estudiante Normalized']=''\n",
    "for n in range(len(data)):\n",
    "    data.at[n,'Estudiante Normalized']=labels[n]\n",
    "data.head()"
   ]
  },
  {
   "cell_type": "code",
   "execution_count": 40,
   "metadata": {},
   "outputs": [
    {
     "data": {
      "text/html": [
       "<div>\n",
       "<style>\n",
       "    .dataframe thead tr:only-child th {\n",
       "        text-align: right;\n",
       "    }\n",
       "\n",
       "    .dataframe thead th {\n",
       "        text-align: left;\n",
       "    }\n",
       "\n",
       "    .dataframe tbody tr th {\n",
       "        vertical-align: top;\n",
       "    }\n",
       "</style>\n",
       "<table border=\"1\" class=\"dataframe\">\n",
       "  <thead>\n",
       "    <tr style=\"text-align: right;\">\n",
       "      <th></th>\n",
       "      <th>Nota Io2</th>\n",
       "      <th>Nº Io2</th>\n",
       "      <th>Nota Produ2</th>\n",
       "      <th>Nº Produ2</th>\n",
       "    </tr>\n",
       "    <tr>\n",
       "      <th>Estudiante</th>\n",
       "      <th></th>\n",
       "      <th></th>\n",
       "      <th></th>\n",
       "      <th></th>\n",
       "    </tr>\n",
       "  </thead>\n",
       "  <tbody>\n",
       "    <tr>\n",
       "      <th>0</th>\n",
       "      <td>4.150000</td>\n",
       "      <td>1.000000</td>\n",
       "      <td>3.233333</td>\n",
       "      <td>1.833333</td>\n",
       "    </tr>\n",
       "    <tr>\n",
       "      <th>1</th>\n",
       "      <td>4.134783</td>\n",
       "      <td>1.000000</td>\n",
       "      <td>5.034783</td>\n",
       "      <td>1.000000</td>\n",
       "    </tr>\n",
       "    <tr>\n",
       "      <th>2</th>\n",
       "      <td>3.553846</td>\n",
       "      <td>2.153846</td>\n",
       "      <td>1.715385</td>\n",
       "      <td>1.384615</td>\n",
       "    </tr>\n",
       "    <tr>\n",
       "      <th>3</th>\n",
       "      <td>3.557143</td>\n",
       "      <td>2.214286</td>\n",
       "      <td>4.971429</td>\n",
       "      <td>1.000000</td>\n",
       "    </tr>\n",
       "    <tr>\n",
       "      <th>4</th>\n",
       "      <td>3.766667</td>\n",
       "      <td>2.266667</td>\n",
       "      <td>3.773333</td>\n",
       "      <td>1.800000</td>\n",
       "    </tr>\n",
       "  </tbody>\n",
       "</table>\n",
       "</div>"
      ],
      "text/plain": [
       "            Nota Io2    Nº Io2  Nota Produ2  Nº Produ2\n",
       "Estudiante                                            \n",
       "0           4.150000  1.000000     3.233333   1.833333\n",
       "1           4.134783  1.000000     5.034783   1.000000\n",
       "2           3.553846  2.153846     1.715385   1.384615\n",
       "3           3.557143  2.214286     4.971429   1.000000\n",
       "4           3.766667  2.266667     3.773333   1.800000"
      ]
     },
     "metadata": {},
     "output_type": "display_data"
    },
    {
     "data": {
      "text/html": [
       "<div>\n",
       "<style>\n",
       "    .dataframe thead tr:only-child th {\n",
       "        text-align: right;\n",
       "    }\n",
       "\n",
       "    .dataframe thead th {\n",
       "        text-align: left;\n",
       "    }\n",
       "\n",
       "    .dataframe tbody tr th {\n",
       "        vertical-align: top;\n",
       "    }\n",
       "</style>\n",
       "<table border=\"1\" class=\"dataframe\">\n",
       "  <thead>\n",
       "    <tr style=\"text-align: right;\">\n",
       "      <th></th>\n",
       "      <th>Nota Io2</th>\n",
       "      <th>Nº Io2</th>\n",
       "      <th>Nota Produ2</th>\n",
       "      <th>Nº Produ2</th>\n",
       "    </tr>\n",
       "    <tr>\n",
       "      <th>Estudiante Normalized</th>\n",
       "      <th></th>\n",
       "      <th></th>\n",
       "      <th></th>\n",
       "      <th></th>\n",
       "    </tr>\n",
       "  </thead>\n",
       "  <tbody>\n",
       "    <tr>\n",
       "      <th>0</th>\n",
       "      <td>4.154167</td>\n",
       "      <td>1.000000</td>\n",
       "      <td>4.925000</td>\n",
       "      <td>1.0</td>\n",
       "    </tr>\n",
       "    <tr>\n",
       "      <th>1</th>\n",
       "      <td>3.688235</td>\n",
       "      <td>2.294118</td>\n",
       "      <td>3.376471</td>\n",
       "      <td>2.0</td>\n",
       "    </tr>\n",
       "    <tr>\n",
       "      <th>2</th>\n",
       "      <td>3.612500</td>\n",
       "      <td>2.000000</td>\n",
       "      <td>1.400000</td>\n",
       "      <td>1.0</td>\n",
       "    </tr>\n",
       "    <tr>\n",
       "      <th>3</th>\n",
       "      <td>4.060000</td>\n",
       "      <td>1.000000</td>\n",
       "      <td>3.400000</td>\n",
       "      <td>2.0</td>\n",
       "    </tr>\n",
       "    <tr>\n",
       "      <th>4</th>\n",
       "      <td>3.582353</td>\n",
       "      <td>2.235294</td>\n",
       "      <td>4.700000</td>\n",
       "      <td>1.0</td>\n",
       "    </tr>\n",
       "  </tbody>\n",
       "</table>\n",
       "</div>"
      ],
      "text/plain": [
       "                       Nota Io2    Nº Io2  Nota Produ2  Nº Produ2\n",
       "Estudiante Normalized                                            \n",
       "0                      4.154167  1.000000     4.925000        1.0\n",
       "1                      3.688235  2.294118     3.376471        2.0\n",
       "2                      3.612500  2.000000     1.400000        1.0\n",
       "3                      4.060000  1.000000     3.400000        2.0\n",
       "4                      3.582353  2.235294     4.700000        1.0"
      ]
     },
     "execution_count": 40,
     "metadata": {},
     "output_type": "execute_result"
    }
   ],
   "source": [
    "display(Resumen)\n",
    "Resumen=data.groupby(['Estudiante Normalized']).mean()\n",
    "Resumen"
   ]
  }
 ],
 "metadata": {
  "kernelspec": {
   "display_name": "Python 3",
   "language": "python",
   "name": "python3"
  },
  "language_info": {
   "codemirror_mode": {
    "name": "ipython",
    "version": 3
   },
   "file_extension": ".py",
   "mimetype": "text/x-python",
   "name": "python",
   "nbconvert_exporter": "python",
   "pygments_lexer": "ipython3",
   "version": "3.6.3"
  }
 },
 "nbformat": 4,
 "nbformat_minor": 2
}
