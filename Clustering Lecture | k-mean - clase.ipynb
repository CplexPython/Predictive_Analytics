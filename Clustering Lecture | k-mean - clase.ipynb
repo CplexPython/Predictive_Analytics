{
 "cells": [
  {
   "cell_type": "markdown",
   "metadata": {},
   "source": [
    "![title](UCN ICI.png)\n",
    "\n",
    " #  <font color= #007FFF> K-mean Algorithm </font>\n",
    "\n",
    "<div class=\"alert alert-info\"> </h4> **Material preparado para el Master en Ingeniería Civil Industrial | Universidad Católica del Norte | Antofasta | Curso - Predictive Analytics.**\n",
    "</h4> </div>\n",
    "\n",
    "**K-medias es un método de agrupamiento**, que tiene como objetivo la partición de un conjunto de n observaciones en k grupos en el que cada observación pertenece al grupo cuyo valor medio es más cercano. Es un método utilizado en data science.\n",
    "\n",
    "La agrupación del conjunto de datos puede ilustrarse en una partición del espacio de datos en celdas de Voronoi.\n",
    "\n",
    "El problema es computacionalmente difícil (**NP-hard**). Sin embargo, hay eficientes heurísticas que se emplean comúnmente y convergen rápidamente a un óptimo local. Estos suelen ser similares a los algoritmos expectation-maximization de mezclas de distribuciones gausianas por medio de un enfoque de refinamiento iterativo empleado por ambos algoritmos. Además, los dos algoritmos usan los centros que los grupos utilizan para modelar los datos, sin embargo **k-medias** tiende a encontrar grupos de extensión espacial comparable, mientras que el mecanismo expectation-maximization permite que los grupos tengan formas diferentes.\n",
    "Fuente: [Wikipedia](https://es.wikipedia.org/wiki/K-medias)\n",
    "\n",
    "\n",
    "## **Problema**\n",
    "\n",
    "\n",
    "\n",
    "Dado un conjunto de observaciones $(x_1, x_2, …, x_n)$, donde cada observación es un vector real de $d$ dimensiones, **k-medias** construye una partición de las observaciones en $k$ conjuntos $(k \\leq n)$ a fin de **minimizar la suma de los cuadrados dentro de cada grupo** (WCSS): S = {S1, S2, …, Sk}\n",
    "\n",
    "\\begin{equation}\n",
    "Min\\;Z=\\displaystyle\\sum_{i=1}^{k}\\displaystyle\\sum_{x_{i}\\in S_i}^{}|| x_i-\\mu_i ||^{2}\n",
    "\\end{equation}\n",
    "Donde $\\mu_i$ es la media de los puntos en $s_i$\n",
    "\n",
    "<img src=\"kmeanx.png\" width=\"500\" height=\"500\" />\n",
    "\n",
    "\n",
    "## **Agenda**\n",
    "- Ejemplo simple utilizando Scikit-learn\n",
    "- Clasificando Estudiantes"
   ]
  },
  {
   "cell_type": "markdown",
   "metadata": {},
   "source": [
    "#  <font color= #007FFF> 1.- Datos y Librerías </font>"
   ]
  },
  {
   "cell_type": "code",
   "execution_count": null,
   "metadata": {},
   "outputs": [],
   "source": []
  },
  {
   "cell_type": "code",
   "execution_count": null,
   "metadata": {},
   "outputs": [],
   "source": []
  },
  {
   "cell_type": "code",
   "execution_count": null,
   "metadata": {},
   "outputs": [],
   "source": []
  },
  {
   "cell_type": "markdown",
   "metadata": {},
   "source": [
    "#  <font color= #007FFF> 2.- Encontrando grupo de Estudiantes </font>"
   ]
  },
  {
   "cell_type": "code",
   "execution_count": null,
   "metadata": {},
   "outputs": [],
   "source": []
  },
  {
   "cell_type": "code",
   "execution_count": null,
   "metadata": {},
   "outputs": [],
   "source": []
  },
  {
   "cell_type": "code",
   "execution_count": null,
   "metadata": {},
   "outputs": [],
   "source": []
  },
  {
   "cell_type": "markdown",
   "metadata": {},
   "source": [
    "#  <font color= #007FFF> 3.- Normalizando los datos </font>"
   ]
  },
  {
   "cell_type": "code",
   "execution_count": null,
   "metadata": {},
   "outputs": [],
   "source": []
  },
  {
   "cell_type": "code",
   "execution_count": null,
   "metadata": {},
   "outputs": [],
   "source": []
  },
  {
   "cell_type": "code",
   "execution_count": null,
   "metadata": {},
   "outputs": [],
   "source": []
  },
  {
   "cell_type": "code",
   "execution_count": null,
   "metadata": {},
   "outputs": [],
   "source": []
  }
 ],
 "metadata": {
  "kernelspec": {
   "display_name": "Python 3",
   "language": "python",
   "name": "python3"
  },
  "language_info": {
   "codemirror_mode": {
    "name": "ipython",
    "version": 3
   },
   "file_extension": ".py",
   "mimetype": "text/x-python",
   "name": "python",
   "nbconvert_exporter": "python",
   "pygments_lexer": "ipython3",
   "version": "3.6.3"
  }
 },
 "nbformat": 4,
 "nbformat_minor": 2
}
